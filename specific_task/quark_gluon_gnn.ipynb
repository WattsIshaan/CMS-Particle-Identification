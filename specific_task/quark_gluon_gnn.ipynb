{
  "cells": [
    {
      "cell_type": "markdown",
      "source": [
        "# **Graph Neural Networks for End-to-End Particle Identification with the CMS Experiment Task-2**"
      ],
      "metadata": {
        "id": "I8iAerWEG-w7"
      }
    },
    {
      "cell_type": "code",
      "source": [
        "from google.colab import drive\n",
        "drive.mount('/content/drive')"
      ],
      "metadata": {
        "id": "8zJyouq3qm84",
        "colab": {
          "base_uri": "https://localhost:8080/"
        },
        "outputId": "e96f6ca8-8a9d-4b09-82b4-f7b46ac126a8"
      },
      "execution_count": 1,
      "outputs": [
        {
          "output_type": "stream",
          "name": "stdout",
          "text": [
            "Mounted at /content/drive\n"
          ]
        }
      ]
    },
    {
      "cell_type": "markdown",
      "source": [
        "## Installing Requirements"
      ],
      "metadata": {
        "id": "wBaBmUJKjzog"
      }
    },
    {
      "cell_type": "code",
      "source": [
        "!pip install pyg_lib torch_scatter torch_sparse torch_cluster -f https://data.pyg.org/whl/torch-1.13.1+cu116.html\n",
        "!pip install torch-geometric"
      ],
      "metadata": {
        "colab": {
          "base_uri": "https://localhost:8080/"
        },
        "id": "i00nUU2Njkqs",
        "outputId": "dc42fc20-411a-4209-e8ec-96a0ff14e421"
      },
      "execution_count": 4,
      "outputs": [
        {
          "output_type": "stream",
          "name": "stdout",
          "text": [
            "Looking in indexes: https://pypi.org/simple, https://us-python.pkg.dev/colab-wheels/public/simple/\n",
            "Looking in links: https://data.pyg.org/whl/torch-1.13.1+cu116.html\n",
            "Requirement already satisfied: pyg_lib in /usr/local/lib/python3.9/dist-packages (0.1.0+pt113cu116)\n",
            "Requirement already satisfied: torch_scatter in /usr/local/lib/python3.9/dist-packages (2.1.0+pt113cu116)\n",
            "Requirement already satisfied: torch_sparse in /usr/local/lib/python3.9/dist-packages (0.6.16+pt113cu116)\n",
            "Collecting torch_cluster\n",
            "  Downloading https://data.pyg.org/whl/torch-1.13.0%2Bcu116/torch_cluster-1.6.0%2Bpt113cu116-cp39-cp39-linux_x86_64.whl (3.2 MB)\n",
            "\u001b[2K     \u001b[90m━━━━━━━━━━━━━━━━━━━━━━━━━━━━━━━━━━━━━━━━\u001b[0m \u001b[32m3.2/3.2 MB\u001b[0m \u001b[31m34.1 MB/s\u001b[0m eta \u001b[36m0:00:00\u001b[0m\n",
            "\u001b[?25hRequirement already satisfied: scipy in /usr/local/lib/python3.9/dist-packages (from torch_sparse) (1.10.1)\n",
            "Requirement already satisfied: numpy<1.27.0,>=1.19.5 in /usr/local/lib/python3.9/dist-packages (from scipy->torch_sparse) (1.22.4)\n",
            "Installing collected packages: torch_cluster\n",
            "Successfully installed torch_cluster-1.6.0+pt113cu116\n",
            "Looking in indexes: https://pypi.org/simple, https://us-python.pkg.dev/colab-wheels/public/simple/\n",
            "Requirement already satisfied: torch-geometric in /usr/local/lib/python3.9/dist-packages (2.2.0)\n",
            "Requirement already satisfied: numpy in /usr/local/lib/python3.9/dist-packages (from torch-geometric) (1.22.4)\n",
            "Requirement already satisfied: psutil>=5.8.0 in /usr/local/lib/python3.9/dist-packages (from torch-geometric) (5.9.4)\n",
            "Requirement already satisfied: requests in /usr/local/lib/python3.9/dist-packages (from torch-geometric) (2.25.1)\n",
            "Requirement already satisfied: scipy in /usr/local/lib/python3.9/dist-packages (from torch-geometric) (1.10.1)\n",
            "Requirement already satisfied: pyparsing in /usr/local/lib/python3.9/dist-packages (from torch-geometric) (3.0.9)\n",
            "Requirement already satisfied: scikit-learn in /usr/local/lib/python3.9/dist-packages (from torch-geometric) (1.2.1)\n",
            "Requirement already satisfied: jinja2 in /usr/local/lib/python3.9/dist-packages (from torch-geometric) (3.1.2)\n",
            "Requirement already satisfied: tqdm in /usr/local/lib/python3.9/dist-packages (from torch-geometric) (4.65.0)\n",
            "Requirement already satisfied: MarkupSafe>=2.0 in /usr/local/lib/python3.9/dist-packages (from jinja2->torch-geometric) (2.1.2)\n",
            "Requirement already satisfied: idna<3,>=2.5 in /usr/local/lib/python3.9/dist-packages (from requests->torch-geometric) (2.10)\n",
            "Requirement already satisfied: urllib3<1.27,>=1.21.1 in /usr/local/lib/python3.9/dist-packages (from requests->torch-geometric) (1.26.14)\n",
            "Requirement already satisfied: chardet<5,>=3.0.2 in /usr/local/lib/python3.9/dist-packages (from requests->torch-geometric) (4.0.0)\n",
            "Requirement already satisfied: certifi>=2017.4.17 in /usr/local/lib/python3.9/dist-packages (from requests->torch-geometric) (2022.12.7)\n",
            "Requirement already satisfied: joblib>=1.1.1 in /usr/local/lib/python3.9/dist-packages (from scikit-learn->torch-geometric) (1.2.0)\n",
            "Requirement already satisfied: threadpoolctl>=2.0.0 in /usr/local/lib/python3.9/dist-packages (from scikit-learn->torch-geometric) (3.1.0)\n"
          ]
        }
      ]
    },
    {
      "cell_type": "markdown",
      "source": [
        "## Importing Libraries"
      ],
      "metadata": {
        "id": "3vcI9nVpxDSK"
      }
    },
    {
      "cell_type": "code",
      "source": [
        "import numpy as np\n",
        "from tqdm import tqdm\n",
        "import pyarrow.parquet as pq\n",
        "import matplotlib.pyplot as plt\n",
        "\n",
        "from sklearn.model_selection import train_test_split\n",
        "from sklearn.metrics import accuracy_score, roc_curve, auc, f1_score\n",
        "import matplotlib.pyplot as plt"
      ],
      "metadata": {
        "id": "OJ4Xoin8CACP"
      },
      "execution_count": 2,
      "outputs": []
    },
    {
      "cell_type": "code",
      "source": [
        "# Modules for pytorch model\n",
        "\n",
        "import torch\n",
        "import torch.nn as nn\n",
        "import torch.optim as optim\n",
        "from torch.optim.lr_scheduler import StepLR\n",
        "from torch_geometric.data import Data, Dataset\n",
        "from torch_geometric.loader import DataLoader\n",
        "from torch_geometric.nn import GCNConv, Linear, global_mean_pool, GraphConv, global_max_pool\n",
        "import torch.nn.functional as F\n",
        "from torch_cluster import knn_graph"
      ],
      "metadata": {
        "id": "CMfkNvQSKgRY"
      },
      "execution_count": 1,
      "outputs": []
    },
    {
      "cell_type": "markdown",
      "source": [
        "## Model - PyTorch CNN"
      ],
      "metadata": {
        "id": "vKTG5IeQI2KU"
      }
    },
    {
      "cell_type": "markdown",
      "source": [
        "### Creating Custom Dataset"
      ],
      "metadata": {
        "id": "mjeCBoidRxm_"
      }
    },
    {
      "cell_type": "markdown",
      "source": [
        "Graph Construction\n",
        "\n",
        "1. Treat all 125x125 pixels as nodes of the graph.\n",
        "2. Keep only the nodes having non-zero channel values. This helps convert the image to a point-cloud representation.\n",
        "3. Now, for each node take the nearest k(=8) neigbours as the edge indices.\n",
        "4. The node features are set as the channel values hence we get 3 features per node."
      ],
      "metadata": {
        "id": "9MgmkHl_G8si"
      }
    },
    {
      "cell_type": "code",
      "source": [
        "class MyDataset(Dataset):\n",
        "\n",
        "    \"\"\"\n",
        "    Custom dataset for Image dataset. \n",
        "    Reads the dataset from the parquet file and constructs the graph by first converting into a point-cloud representation.\n",
        "    k --> number of nearest neighbors.\n",
        "    \"\"\"\n",
        "\n",
        "    def __init__(self, split = 'train', test_size = 0.2, k = 8):\n",
        "\n",
        "      filename = '/content/drive/MyDrive/GSOC/Quark-gluon using cnn/QCDToGGQQ_IMGjet_RH1all_jet0_run0_n36272.test.snappy.parquet'\n",
        "      self.parquet_file = pq.ParquetFile(filename)\n",
        "      self.k = k\n",
        "\n",
        "      num_rows = self.parquet_file.metadata.num_rows\n",
        "\n",
        "      # Reading dataset from the parquet file and performing 80/20 train-test split.\n",
        "      indices = np.arange(num_rows)\n",
        "      train, test = train_test_split(indices, test_size = test_size, stratify = np.array(self.parquet_file.read(columns = 'y')).reshape(-1))\n",
        "\n",
        "      if split == 'train':\n",
        "        data = self.parquet_file.read_row_groups(sorted(train), columns = ['X_jets', 'y'])\n",
        "        self.X = torch.tensor(data.column('X_jets').to_pylist())\n",
        "        self.y = torch.tensor(data.column('y').to_pylist()).long()\n",
        "  \n",
        "      else:\n",
        "        data = self.parquet_file.read_row_groups(sorted(test), columns = ['X_jets', 'y'])\n",
        "        self.X = torch.tensor(data.column('X_jets').to_pylist())\n",
        "        self.y = torch.tensor(data.column('y').to_pylist()).long()\n",
        "\n",
        "    def __len__(self):\n",
        "        return self.X.size(0)\n",
        "\n",
        "    def __getitem__(self, idx):\n",
        "\n",
        "      return self.construct_graph(self.X[idx].permute(1,2,0), self.y[idx], self.k)\n",
        "\n",
        "    def construct_graph(self, X, y, k):\n",
        "\n",
        "      # create a 2D grid of x, y coordinates\n",
        "      x_coords = torch.arange(0, 125)\n",
        "      y_coords = torch.arange(0, 125)\n",
        "      xx, yy = torch.meshgrid(x_coords, y_coords, indexing='xy')\n",
        "      pos = torch.stack((xx.reshape(-1), yy.reshape(-1)), dim=1)\n",
        "\n",
        "      # calculate the sum of absolute values of channels for each pixel\n",
        "      abs_sum = torch.sum(torch.abs(X), dim=2).reshape(-1)\n",
        "\n",
        "      # filter out coordinates with sum of absolute channel values as 0\n",
        "      nonzero_coords = pos[abs_sum != 0]\n",
        "      num_nodes = len(nonzero_coords)\n",
        "\n",
        "      # create node features as 3 channel values for each pixel\n",
        "      node_features = X.reshape(-1,3)[abs_sum != 0]\n",
        "\n",
        "      # calculate edge indices based on the k-nearest neighbors graph\n",
        "      \n",
        "      edge_indices = knn_graph(nonzero_coords, k, loop=False)\n",
        "\n",
        "      # create PyTorch Geometric data object\n",
        "      data = Data(\n",
        "          x=node_features,\n",
        "          y=y,\n",
        "          edge_index=edge_indices,\n",
        "          pos=nonzero_coords)\n",
        "      \n",
        "      return data\n",
        "  "
      ],
      "metadata": {
        "id": "cMYSFJoKRzwq"
      },
      "execution_count": 4,
      "outputs": []
    },
    {
      "cell_type": "code",
      "source": [
        "train_dataset = MyDataset(split='train')\n",
        "test_dataset = MyDataset(split='test')"
      ],
      "metadata": {
        "id": "HCtxJAkdTJX0"
      },
      "execution_count": 5,
      "outputs": []
    },
    {
      "cell_type": "markdown",
      "source": [
        "### Data Loaders"
      ],
      "metadata": {
        "id": "oByhhbcjUSAQ"
      }
    },
    {
      "cell_type": "code",
      "source": [
        "def get_data_loaders(train_dataset, test_dataset, batch_size=32):\n",
        "\n",
        "    \"\"\"\n",
        "    Function to create the DataLoaders for train-val-test data. \n",
        "    Can specify batch size. Default value is set to 32.\n",
        "    \"\"\"\n",
        "\n",
        "    # Shuffle=True for training data to get diversity in batches at each training epoch\n",
        "    train_loader = DataLoader(train_dataset, batch_size=batch_size, shuffle=True)\n",
        "    test_loader = DataLoader(test_dataset, batch_size=batch_size, shuffle=False)\n",
        "\n",
        "    return train_loader, test_loader\n",
        "\n",
        "train_loader, test_loader = get_data_loaders(train_dataset, test_dataset, batch_size=32)"
      ],
      "metadata": {
        "id": "nJ62awGcUQAZ"
      },
      "execution_count": 6,
      "outputs": []
    },
    {
      "cell_type": "markdown",
      "source": [
        "Set Device"
      ],
      "metadata": {
        "id": "ZxDvPZGLVphx"
      }
    },
    {
      "cell_type": "code",
      "source": [
        "def get_device():\n",
        "    return torch.device('cuda' if torch.cuda.is_available() else 'cpu')"
      ],
      "metadata": {
        "id": "xQbEZf7dVuDB"
      },
      "execution_count": 7,
      "outputs": []
    },
    {
      "cell_type": "code",
      "source": [
        "device = get_device()\n",
        "print(device)"
      ],
      "metadata": {
        "colab": {
          "base_uri": "https://localhost:8080/"
        },
        "id": "LH1qKL4dVvkk",
        "outputId": "8420f3a6-5a1e-4d61-fc31-f8f0abb21ce7"
      },
      "execution_count": 8,
      "outputs": [
        {
          "output_type": "stream",
          "name": "stdout",
          "text": [
            "cuda\n"
          ]
        }
      ]
    },
    {
      "cell_type": "markdown",
      "source": [
        "### Model Architecture\n",
        "\n",
        "I haved used 2 GNN architectures"
      ],
      "metadata": {
        "id": "1Y-t_P89V0Sa"
      }
    },
    {
      "cell_type": "markdown",
      "source": [
        "**Architecture 1**\n",
        "\n",
        "1. 3-layer GCN network with relu for aggregation of node-level features.\n",
        "2. Readput layer as global mean pooling for graph-level embedding.\n",
        "3. A dropout layer followed by linear layer."
      ],
      "metadata": {
        "id": "fRnoSnLiH5rS"
      }
    },
    {
      "cell_type": "code",
      "source": [
        "class GCN(torch.nn.Module):\n",
        "    def __init__(self, node_features = 2, hidden_channels = 16, num_classes = 2):\n",
        "\n",
        "        super(GCN, self).__init__()\n",
        "        torch.manual_seed(1)\n",
        "\n",
        "        self.conv1 = GCNConv(node_features, hidden_channels)\n",
        "        self.conv2 = GCNConv(hidden_channels, hidden_channels)\n",
        "        self.conv3 = GCNConv(hidden_channels, hidden_channels)\n",
        "\n",
        "        self.lin = torch.nn.Linear(hidden_channels, num_classes)\n",
        "\n",
        "    def forward(self, data):\n",
        "\n",
        "        x, edge_index, batch = data.x, data.edge_index, data.batch\n",
        "\n",
        "        x = self.conv1(x, edge_index)\n",
        "        x = F.relu(x)\n",
        "        x = self.conv2(x, edge_index)\n",
        "        x = F.relu(x)\n",
        "        x = self.conv3(x, edge_index)\n",
        "\n",
        "        x = global_mean_pool(x, batch)\n",
        "\n",
        "        x = F.dropout(x, p=0.5, training=self.training)\n",
        "        x = self.lin(x)\n",
        "\n",
        "        return x"
      ],
      "metadata": {
        "id": "v6ZKgewCWJj8"
      },
      "execution_count": 9,
      "outputs": []
    },
    {
      "cell_type": "markdown",
      "source": [
        "**Architecture 2**\n",
        "\n",
        "1. Use of GraphConv layer in-place of GCN layer. It adds skip connections in the network tp preserve central node information and omits neighborhood normalization completely.\n",
        "\n",
        "2. The same readout layer with gloab_mean_pooling is used. I also tried using a combination of global_mean and global_max pool but it lead to decrease in performance.\n",
        "\n",
        "3. This is followed by an additional linear layer with relu. Then a dropout and final linear layer."
      ],
      "metadata": {
        "id": "tRs-5aS4IEL3"
      }
    },
    {
      "cell_type": "code",
      "source": [
        "class GraphNN(torch.nn.Module):\n",
        "    def __init__(self, node_features = 2, hidden_channels = 16, num_classes = 2):\n",
        "\n",
        "        super(GraphNN, self).__init__()\n",
        "        torch.manual_seed(1)\n",
        "\n",
        "        self.conv1 = GraphConv(node_features, hidden_channels)\n",
        "        self.conv2 = GraphConv(hidden_channels, hidden_channels)\n",
        "        self.conv3 = GraphConv(hidden_channels, hidden_channels)\n",
        "\n",
        "        self.lin1 = torch.nn.Linear(hidden_channels, hidden_channels)\n",
        "        self.lin2 = torch.nn.Linear(hidden_channels, num_classes)\n",
        "\n",
        "\n",
        "    def forward(self, data):\n",
        "\n",
        "        x, edge_index, batch = data.x, data.edge_index, data.batch\n",
        "\n",
        "        # Neighbourhood node-feature aggregation\n",
        "        x = self.conv1(x, edge_index)\n",
        "        x = F.relu(x)\n",
        "        x = self.conv2(x, edge_index)\n",
        "        x = F.relu(x)\n",
        "        x = self.conv3(x, edge_index)\n",
        "\n",
        "        # Batch-wise node-level aggreation \n",
        "        x = global_mean_pool(x, batch)  # (batch, features)\n",
        "\n",
        "        x = F.relu(self.lin1(x))\n",
        "        x = F.dropout(x, p=0.5, training=self.training)\n",
        "        x = self.lin2(x)\n",
        "\n",
        "        return x"
      ],
      "metadata": {
        "id": "TvPEgpY72Xbd"
      },
      "execution_count": 10,
      "outputs": []
    },
    {
      "cell_type": "code",
      "source": [
        "model_GCN = GCN(node_features = 3, hidden_channels = 16, num_classes = 2)\n",
        "model_GraphNN = GraphNN(node_features = 3, hidden_channels = 16, num_classes = 2)\n",
        "\n",
        "model_GCN = model_GCN.to(device)\n",
        "model_GraphNN = model_GraphNN.to(device)"
      ],
      "metadata": {
        "id": "OCf6FRJy2dEs"
      },
      "execution_count": 11,
      "outputs": []
    },
    {
      "cell_type": "code",
      "source": [
        "print(model_GCN)"
      ],
      "metadata": {
        "colab": {
          "base_uri": "https://localhost:8080/"
        },
        "id": "OzUHTtuvIKJd",
        "outputId": "bc284a99-e2b9-4f83-c771-2ef9694d72e2"
      },
      "execution_count": 12,
      "outputs": [
        {
          "output_type": "stream",
          "name": "stdout",
          "text": [
            "GCN(\n",
            "  (conv1): GCNConv(3, 16)\n",
            "  (conv2): GCNConv(16, 16)\n",
            "  (conv3): GCNConv(16, 16)\n",
            "  (lin): Linear(in_features=16, out_features=2, bias=True)\n",
            ")\n"
          ]
        }
      ]
    },
    {
      "cell_type": "code",
      "source": [
        "print(model_GraphNN)"
      ],
      "metadata": {
        "colab": {
          "base_uri": "https://localhost:8080/"
        },
        "id": "rBvw2I6mIKrW",
        "outputId": "c809e51a-6541-4eeb-81d9-4223898bf82e"
      },
      "execution_count": 13,
      "outputs": [
        {
          "output_type": "stream",
          "name": "stdout",
          "text": [
            "GraphNN(\n",
            "  (conv1): GraphConv(3, 16)\n",
            "  (conv2): GraphConv(16, 16)\n",
            "  (conv3): GraphConv(16, 16)\n",
            "  (lin1): Linear(in_features=16, out_features=16, bias=True)\n",
            "  (lin2): Linear(in_features=16, out_features=2, bias=True)\n",
            ")\n"
          ]
        }
      ]
    },
    {
      "cell_type": "code",
      "source": [
        "# Defining the optimizer and loss function\n",
        "\n",
        "optimizer_GCN = torch.optim.Adam(model_GCN.parameters(), lr=1e-3)\n",
        "optimizer_GraphNN = torch.optim.Adam(model_GraphNN.parameters(), lr=1e-3)\n",
        "\n",
        "scheduler_GCN = StepLR(optimizer_GCN, step_size=10, gamma=0.5)\n",
        "scheduler_GraphNN = StepLR(optimizer_GraphNN, step_size=10, gamma=0.5)\n",
        "\n",
        "criterion = torch.nn.CrossEntropyLoss()"
      ],
      "metadata": {
        "id": "KajbKVPW3hAl"
      },
      "execution_count": 14,
      "outputs": []
    },
    {
      "cell_type": "markdown",
      "source": [
        "### Defining Train-Val-Test Functions"
      ],
      "metadata": {
        "id": "SoEiXVcfIZNR"
      }
    },
    {
      "cell_type": "code",
      "source": [
        "def train(model, device, loader, optimizer, criterion, scheduler):\n",
        "\n",
        "    model.train()\n",
        "    correct = 0\n",
        "    total_loss = 0\n",
        "    for data in tqdm(loader):  # Iterate in batches over the training dataset.\n",
        "        \n",
        "        data = data.to(device)\n",
        "\n",
        "        out = model(data)  # Perform a single forward pass.\n",
        "\n",
        "        loss = criterion(out, data.y)  # Compute the loss.\n",
        "        loss.backward()  # Derive gradients.\n",
        "        optimizer.step()  # Update parameters based on gradients.\n",
        "        optimizer.zero_grad()  # Clear gradients.\n",
        "\n",
        "        pred = out.argmax(dim=1)\n",
        "\n",
        "        correct += int((pred == data.y).sum())\n",
        "        total_loss += loss.item()\n",
        "\n",
        "    scheduler.step()\n",
        "    lr = optimizer.param_groups[0]['lr']\n",
        "\n",
        "    print(f'Train Acc: {correct/len(loader.dataset):.3f}, Train Loss: {total_loss:.4f}, Learning Rate: {lr:.6f}')\n",
        "\n",
        "    return model, total_loss\n",
        "\n",
        "    \n",
        "def evaluate(model, device, loader):\n",
        "  \n",
        "    model.eval()\n",
        "    correct = 0\n",
        "    \n",
        "    with torch.no_grad():\n",
        "        for data in tqdm(loader):\n",
        "\n",
        "            data = data.to(device)\n",
        "            out = model(data)\n",
        "\n",
        "            # Calculation of correctly classified edges\n",
        "            pred = out.argmax(dim=1)\n",
        "            correct += (pred == data.y).sum().item()\n",
        "\n",
        "        print(f'Val Acc : {correct/len(loader.dataset):.3f}\\n')"
      ],
      "metadata": {
        "id": "3SFXKR5i3kmr"
      },
      "execution_count": 15,
      "outputs": []
    },
    {
      "cell_type": "markdown",
      "source": [
        "### Training"
      ],
      "metadata": {
        "id": "1n96DvKqIdUb"
      }
    },
    {
      "cell_type": "code",
      "source": [
        "# Training Loop for Architecture 1\n",
        "\n",
        "epochs = 10\n",
        "\n",
        "for epoch in range(epochs):\n",
        "\n",
        "  print(f'Epoch : {epoch+1} \\n')\n",
        "\n",
        "  model_GCN, loss = train(model_GCN, device, train_loader, optimizer_GCN, criterion, scheduler_GCN)\n",
        "  evaluate(model_GCN, device, test_loader)"
      ],
      "metadata": {
        "colab": {
          "base_uri": "https://localhost:8080/"
        },
        "id": "WCSHohDa3g4V",
        "outputId": "f409d570-1b98-4adf-8c42-c451865c30bd"
      },
      "execution_count": 16,
      "outputs": [
        {
          "output_type": "stream",
          "name": "stdout",
          "text": [
            "Epoch : 1 \n",
            "\n"
          ]
        },
        {
          "output_type": "stream",
          "name": "stderr",
          "text": [
            "100%|██████████| 907/907 [01:12<00:00, 12.58it/s]\n"
          ]
        },
        {
          "output_type": "stream",
          "name": "stdout",
          "text": [
            "Train Acc: 0.658, Train Loss: 572.7598, Learning Rate: 0.001000\n"
          ]
        },
        {
          "output_type": "stream",
          "name": "stderr",
          "text": [
            "100%|██████████| 227/227 [00:17<00:00, 13.17it/s]\n"
          ]
        },
        {
          "output_type": "stream",
          "name": "stdout",
          "text": [
            "Val Acc : 0.690\n",
            "\n",
            "Epoch : 2 \n",
            "\n"
          ]
        },
        {
          "output_type": "stream",
          "name": "stderr",
          "text": [
            "100%|██████████| 907/907 [01:11<00:00, 12.65it/s]\n"
          ]
        },
        {
          "output_type": "stream",
          "name": "stdout",
          "text": [
            "Train Acc: 0.687, Train Loss: 552.8842, Learning Rate: 0.001000\n"
          ]
        },
        {
          "output_type": "stream",
          "name": "stderr",
          "text": [
            "100%|██████████| 227/227 [00:17<00:00, 12.99it/s]\n"
          ]
        },
        {
          "output_type": "stream",
          "name": "stdout",
          "text": [
            "Val Acc : 0.699\n",
            "\n",
            "Epoch : 3 \n",
            "\n"
          ]
        },
        {
          "output_type": "stream",
          "name": "stderr",
          "text": [
            "100%|██████████| 907/907 [01:11<00:00, 12.65it/s]\n"
          ]
        },
        {
          "output_type": "stream",
          "name": "stdout",
          "text": [
            "Train Acc: 0.688, Train Loss: 549.2730, Learning Rate: 0.001000\n"
          ]
        },
        {
          "output_type": "stream",
          "name": "stderr",
          "text": [
            "100%|██████████| 227/227 [00:17<00:00, 13.10it/s]\n"
          ]
        },
        {
          "output_type": "stream",
          "name": "stdout",
          "text": [
            "Val Acc : 0.693\n",
            "\n",
            "Epoch : 4 \n",
            "\n"
          ]
        },
        {
          "output_type": "stream",
          "name": "stderr",
          "text": [
            "100%|██████████| 907/907 [01:11<00:00, 12.67it/s]\n"
          ]
        },
        {
          "output_type": "stream",
          "name": "stdout",
          "text": [
            "Train Acc: 0.691, Train Loss: 548.9173, Learning Rate: 0.001000\n"
          ]
        },
        {
          "output_type": "stream",
          "name": "stderr",
          "text": [
            "100%|██████████| 227/227 [00:17<00:00, 13.10it/s]\n"
          ]
        },
        {
          "output_type": "stream",
          "name": "stdout",
          "text": [
            "Val Acc : 0.692\n",
            "\n",
            "Epoch : 5 \n",
            "\n"
          ]
        },
        {
          "output_type": "stream",
          "name": "stderr",
          "text": [
            "100%|██████████| 907/907 [01:11<00:00, 12.66it/s]\n"
          ]
        },
        {
          "output_type": "stream",
          "name": "stdout",
          "text": [
            "Train Acc: 0.692, Train Loss: 547.6113, Learning Rate: 0.001000\n"
          ]
        },
        {
          "output_type": "stream",
          "name": "stderr",
          "text": [
            "100%|██████████| 227/227 [00:17<00:00, 13.16it/s]\n"
          ]
        },
        {
          "output_type": "stream",
          "name": "stdout",
          "text": [
            "Val Acc : 0.697\n",
            "\n",
            "Epoch : 6 \n",
            "\n"
          ]
        },
        {
          "output_type": "stream",
          "name": "stderr",
          "text": [
            "100%|██████████| 907/907 [01:10<00:00, 12.80it/s]\n"
          ]
        },
        {
          "output_type": "stream",
          "name": "stdout",
          "text": [
            "Train Acc: 0.697, Train Loss: 546.1634, Learning Rate: 0.001000\n"
          ]
        },
        {
          "output_type": "stream",
          "name": "stderr",
          "text": [
            "100%|██████████| 227/227 [00:17<00:00, 13.04it/s]\n"
          ]
        },
        {
          "output_type": "stream",
          "name": "stdout",
          "text": [
            "Val Acc : 0.703\n",
            "\n",
            "Epoch : 7 \n",
            "\n"
          ]
        },
        {
          "output_type": "stream",
          "name": "stderr",
          "text": [
            "100%|██████████| 907/907 [01:12<00:00, 12.50it/s]\n"
          ]
        },
        {
          "output_type": "stream",
          "name": "stdout",
          "text": [
            "Train Acc: 0.696, Train Loss: 542.5864, Learning Rate: 0.001000\n"
          ]
        },
        {
          "output_type": "stream",
          "name": "stderr",
          "text": [
            "100%|██████████| 227/227 [00:17<00:00, 12.73it/s]\n"
          ]
        },
        {
          "output_type": "stream",
          "name": "stdout",
          "text": [
            "Val Acc : 0.704\n",
            "\n",
            "Epoch : 8 \n",
            "\n"
          ]
        },
        {
          "output_type": "stream",
          "name": "stderr",
          "text": [
            "100%|██████████| 907/907 [01:12<00:00, 12.54it/s]\n"
          ]
        },
        {
          "output_type": "stream",
          "name": "stdout",
          "text": [
            "Train Acc: 0.704, Train Loss: 538.4123, Learning Rate: 0.001000\n"
          ]
        },
        {
          "output_type": "stream",
          "name": "stderr",
          "text": [
            "100%|██████████| 227/227 [00:17<00:00, 13.06it/s]\n"
          ]
        },
        {
          "output_type": "stream",
          "name": "stdout",
          "text": [
            "Val Acc : 0.708\n",
            "\n",
            "Epoch : 9 \n",
            "\n"
          ]
        },
        {
          "output_type": "stream",
          "name": "stderr",
          "text": [
            "100%|██████████| 907/907 [01:11<00:00, 12.68it/s]\n"
          ]
        },
        {
          "output_type": "stream",
          "name": "stdout",
          "text": [
            "Train Acc: 0.704, Train Loss: 538.4194, Learning Rate: 0.001000\n"
          ]
        },
        {
          "output_type": "stream",
          "name": "stderr",
          "text": [
            "100%|██████████| 227/227 [00:17<00:00, 13.01it/s]\n"
          ]
        },
        {
          "output_type": "stream",
          "name": "stdout",
          "text": [
            "Val Acc : 0.698\n",
            "\n",
            "Epoch : 10 \n",
            "\n"
          ]
        },
        {
          "output_type": "stream",
          "name": "stderr",
          "text": [
            "100%|██████████| 907/907 [01:11<00:00, 12.67it/s]\n"
          ]
        },
        {
          "output_type": "stream",
          "name": "stdout",
          "text": [
            "Train Acc: 0.704, Train Loss: 537.6170, Learning Rate: 0.000500\n"
          ]
        },
        {
          "output_type": "stream",
          "name": "stderr",
          "text": [
            "100%|██████████| 227/227 [00:17<00:00, 13.06it/s]"
          ]
        },
        {
          "output_type": "stream",
          "name": "stdout",
          "text": [
            "Val Acc : 0.685\n",
            "\n"
          ]
        },
        {
          "output_type": "stream",
          "name": "stderr",
          "text": [
            "\n"
          ]
        }
      ]
    },
    {
      "cell_type": "code",
      "source": [
        "# Training Loop for Architecture 2\n",
        "\n",
        "epochs = 10\n",
        "\n",
        "for epoch in range(epochs):\n",
        "\n",
        "  print(f'Epoch : {epoch+1} \\n')\n",
        "\n",
        "  model_GraphNN, loss = train(model_GraphNN, device, train_loader, optimizer_GraphNN, criterion, scheduler_GraphNN)\n",
        "  evaluate(model_GraphNN, device, test_loader)"
      ],
      "metadata": {
        "colab": {
          "base_uri": "https://localhost:8080/"
        },
        "id": "y-5iGRVFTdnU",
        "outputId": "ca9d69e0-fb86-46fb-aa62-b1a4f3866730"
      },
      "execution_count": 17,
      "outputs": [
        {
          "output_type": "stream",
          "name": "stdout",
          "text": [
            "Epoch : 1 \n",
            "\n"
          ]
        },
        {
          "output_type": "stream",
          "name": "stderr",
          "text": [
            "100%|██████████| 907/907 [01:10<00:00, 12.85it/s]\n"
          ]
        },
        {
          "output_type": "stream",
          "name": "stdout",
          "text": [
            "Train Acc: 0.613, Train Loss: 622.9462, Learning Rate: 0.001000\n"
          ]
        },
        {
          "output_type": "stream",
          "name": "stderr",
          "text": [
            "100%|██████████| 227/227 [00:17<00:00, 13.33it/s]\n"
          ]
        },
        {
          "output_type": "stream",
          "name": "stdout",
          "text": [
            "Val Acc : 0.679\n",
            "\n",
            "Epoch : 2 \n",
            "\n"
          ]
        },
        {
          "output_type": "stream",
          "name": "stderr",
          "text": [
            "100%|██████████| 907/907 [01:10<00:00, 12.78it/s]\n"
          ]
        },
        {
          "output_type": "stream",
          "name": "stdout",
          "text": [
            "Train Acc: 0.673, Train Loss: 561.4441, Learning Rate: 0.001000\n"
          ]
        },
        {
          "output_type": "stream",
          "name": "stderr",
          "text": [
            "100%|██████████| 227/227 [00:16<00:00, 13.42it/s]\n"
          ]
        },
        {
          "output_type": "stream",
          "name": "stdout",
          "text": [
            "Val Acc : 0.661\n",
            "\n",
            "Epoch : 3 \n",
            "\n"
          ]
        },
        {
          "output_type": "stream",
          "name": "stderr",
          "text": [
            "100%|██████████| 907/907 [01:10<00:00, 12.80it/s]\n"
          ]
        },
        {
          "output_type": "stream",
          "name": "stdout",
          "text": [
            "Train Acc: 0.688, Train Loss: 550.0447, Learning Rate: 0.001000\n"
          ]
        },
        {
          "output_type": "stream",
          "name": "stderr",
          "text": [
            "100%|██████████| 227/227 [00:16<00:00, 13.44it/s]\n"
          ]
        },
        {
          "output_type": "stream",
          "name": "stdout",
          "text": [
            "Val Acc : 0.698\n",
            "\n",
            "Epoch : 4 \n",
            "\n"
          ]
        },
        {
          "output_type": "stream",
          "name": "stderr",
          "text": [
            "100%|██████████| 907/907 [01:10<00:00, 12.90it/s]\n"
          ]
        },
        {
          "output_type": "stream",
          "name": "stdout",
          "text": [
            "Train Acc: 0.691, Train Loss: 545.1589, Learning Rate: 0.001000\n"
          ]
        },
        {
          "output_type": "stream",
          "name": "stderr",
          "text": [
            "100%|██████████| 227/227 [00:16<00:00, 13.42it/s]\n"
          ]
        },
        {
          "output_type": "stream",
          "name": "stdout",
          "text": [
            "Val Acc : 0.700\n",
            "\n",
            "Epoch : 5 \n",
            "\n"
          ]
        },
        {
          "output_type": "stream",
          "name": "stderr",
          "text": [
            "100%|██████████| 907/907 [01:11<00:00, 12.71it/s]\n"
          ]
        },
        {
          "output_type": "stream",
          "name": "stdout",
          "text": [
            "Train Acc: 0.694, Train Loss: 544.0537, Learning Rate: 0.001000\n"
          ]
        },
        {
          "output_type": "stream",
          "name": "stderr",
          "text": [
            "100%|██████████| 227/227 [00:17<00:00, 13.30it/s]\n"
          ]
        },
        {
          "output_type": "stream",
          "name": "stdout",
          "text": [
            "Val Acc : 0.698\n",
            "\n",
            "Epoch : 6 \n",
            "\n"
          ]
        },
        {
          "output_type": "stream",
          "name": "stderr",
          "text": [
            "100%|██████████| 907/907 [01:11<00:00, 12.65it/s]\n"
          ]
        },
        {
          "output_type": "stream",
          "name": "stdout",
          "text": [
            "Train Acc: 0.697, Train Loss: 542.3660, Learning Rate: 0.001000\n"
          ]
        },
        {
          "output_type": "stream",
          "name": "stderr",
          "text": [
            "100%|██████████| 227/227 [00:17<00:00, 13.35it/s]\n"
          ]
        },
        {
          "output_type": "stream",
          "name": "stdout",
          "text": [
            "Val Acc : 0.706\n",
            "\n",
            "Epoch : 7 \n",
            "\n"
          ]
        },
        {
          "output_type": "stream",
          "name": "stderr",
          "text": [
            "100%|██████████| 907/907 [01:11<00:00, 12.77it/s]\n"
          ]
        },
        {
          "output_type": "stream",
          "name": "stdout",
          "text": [
            "Train Acc: 0.699, Train Loss: 540.5569, Learning Rate: 0.001000\n"
          ]
        },
        {
          "output_type": "stream",
          "name": "stderr",
          "text": [
            "100%|██████████| 227/227 [00:16<00:00, 13.44it/s]\n"
          ]
        },
        {
          "output_type": "stream",
          "name": "stdout",
          "text": [
            "Val Acc : 0.704\n",
            "\n",
            "Epoch : 8 \n",
            "\n"
          ]
        },
        {
          "output_type": "stream",
          "name": "stderr",
          "text": [
            "100%|██████████| 907/907 [01:10<00:00, 12.81it/s]\n"
          ]
        },
        {
          "output_type": "stream",
          "name": "stdout",
          "text": [
            "Train Acc: 0.696, Train Loss: 541.6637, Learning Rate: 0.001000\n"
          ]
        },
        {
          "output_type": "stream",
          "name": "stderr",
          "text": [
            "100%|██████████| 227/227 [00:16<00:00, 13.46it/s]\n"
          ]
        },
        {
          "output_type": "stream",
          "name": "stdout",
          "text": [
            "Val Acc : 0.707\n",
            "\n",
            "Epoch : 9 \n",
            "\n"
          ]
        },
        {
          "output_type": "stream",
          "name": "stderr",
          "text": [
            "100%|██████████| 907/907 [01:10<00:00, 12.90it/s]\n"
          ]
        },
        {
          "output_type": "stream",
          "name": "stdout",
          "text": [
            "Train Acc: 0.698, Train Loss: 539.4370, Learning Rate: 0.001000\n"
          ]
        },
        {
          "output_type": "stream",
          "name": "stderr",
          "text": [
            "100%|██████████| 227/227 [00:16<00:00, 13.41it/s]\n"
          ]
        },
        {
          "output_type": "stream",
          "name": "stdout",
          "text": [
            "Val Acc : 0.706\n",
            "\n",
            "Epoch : 10 \n",
            "\n"
          ]
        },
        {
          "output_type": "stream",
          "name": "stderr",
          "text": [
            "100%|██████████| 907/907 [01:10<00:00, 12.85it/s]\n"
          ]
        },
        {
          "output_type": "stream",
          "name": "stdout",
          "text": [
            "Train Acc: 0.700, Train Loss: 538.7659, Learning Rate: 0.000500\n"
          ]
        },
        {
          "output_type": "stream",
          "name": "stderr",
          "text": [
            "100%|██████████| 227/227 [00:17<00:00, 13.28it/s]"
          ]
        },
        {
          "output_type": "stream",
          "name": "stdout",
          "text": [
            "Val Acc : 0.712\n",
            "\n"
          ]
        },
        {
          "output_type": "stream",
          "name": "stderr",
          "text": [
            "\n"
          ]
        }
      ]
    },
    {
      "cell_type": "markdown",
      "source": [
        "### Testing"
      ],
      "metadata": {
        "id": "T_DxCeauIhlK"
      }
    },
    {
      "cell_type": "code",
      "source": [
        "def test(model, device, loader):\n",
        "  \n",
        "    model.eval()\n",
        "    y_true = []\n",
        "    y_probas = []\n",
        "    y_pred = []\n",
        "\n",
        "    with torch.no_grad():\n",
        "      \n",
        "        for data in tqdm(loader):\n",
        "          \n",
        "            data = data.to(device)\n",
        "            out = model(data)\n",
        "            \n",
        "            y_true += data.y.cpu().numpy().tolist()\n",
        "            y_pred += out.argmax(dim=1).cpu().numpy().tolist()  # absoulte predictions\n",
        "            y_probas += out[:, 1].cpu().numpy().tolist()  # probability of class 1\n",
        "\n",
        "    # Calculating few metrics\n",
        "\n",
        "    acc = accuracy_score(y_true, y_pred)\n",
        "    f1 = f1_score(y_true, y_pred)\n",
        "    fpr, tpr, thresholds = roc_curve(y_true, y_probas)\n",
        "    roc_auc = auc(fpr, tpr)\n",
        "\n",
        "    print('\\nResults\\n')\n",
        "    print(f'Testing Accuracy {acc:.3f}')\n",
        "    print(f'F1 score: {f1:.3f}')\n",
        "    print(f'ROC-AUC: {roc_auc:.3f}\\n')\n",
        "\n",
        "    return acc, f1, fpr, tpr, roc_auc"
      ],
      "metadata": {
        "id": "vzyLlOJyTg3N"
      },
      "execution_count": 18,
      "outputs": []
    },
    {
      "cell_type": "code",
      "source": [
        "# Testing Architecture 1\n",
        "\n",
        "acc, f1, fpr1, tpr1, area1 = test(model_GCN, device, test_loader)"
      ],
      "metadata": {
        "colab": {
          "base_uri": "https://localhost:8080/"
        },
        "id": "PpRCVD0vb7_O",
        "outputId": "7c9fdbc7-82e6-413a-9fea-cc893c687283"
      },
      "execution_count": 19,
      "outputs": [
        {
          "output_type": "stream",
          "name": "stderr",
          "text": [
            "100%|██████████| 227/227 [00:17<00:00, 13.06it/s]"
          ]
        },
        {
          "output_type": "stream",
          "name": "stdout",
          "text": [
            "\n",
            "Results\n",
            "\n",
            "Testing Accuracy 0.685\n",
            "F1 score: 0.619\n",
            "ROC-AUC: 0.771\n",
            "\n"
          ]
        },
        {
          "output_type": "stream",
          "name": "stderr",
          "text": [
            "\n"
          ]
        }
      ]
    },
    {
      "cell_type": "code",
      "source": [
        "# Testing Architecture 2\n",
        "\n",
        "acc, f1, fpr2, tpr2, area2 = test(model_GraphNN, device, test_loader)"
      ],
      "metadata": {
        "colab": {
          "base_uri": "https://localhost:8080/"
        },
        "id": "nCaErbIJb8xR",
        "outputId": "08cba363-7d15-4aa2-e2c9-986c82531eab"
      },
      "execution_count": 20,
      "outputs": [
        {
          "output_type": "stream",
          "name": "stderr",
          "text": [
            "100%|██████████| 227/227 [00:17<00:00, 13.19it/s]\n"
          ]
        },
        {
          "output_type": "stream",
          "name": "stdout",
          "text": [
            "\n",
            "Results\n",
            "\n",
            "Testing Accuracy 0.712\n",
            "F1 score: 0.696\n",
            "ROC-AUC: 0.772\n",
            "\n"
          ]
        }
      ]
    },
    {
      "cell_type": "code",
      "source": [
        "plt.plot(fpr1, tpr1, color = 'red', label = f'GCN auc : {area1:.3f}')\n",
        "plt.plot(fpr2, tpr2, color = 'blue', label = f'GraphNN auc : {area2:.3f}')\n",
        "plt.plot([0, 1], [0, 1], 'k--')  # diagonal line representing random guessing\n",
        "plt.xlabel('False Positive Rate')\n",
        "plt.ylabel('True Positive Rate')\n",
        "plt.legend()\n",
        "\n",
        "plt.title('Receiver Operating Characteristic (ROC) Curve')\n",
        "plt.savefig(f'roc_auc.png')\n",
        "plt.show()"
      ],
      "metadata": {
        "colab": {
          "base_uri": "https://localhost:8080/",
          "height": 295
        },
        "id": "SkBiuFig4Flx",
        "outputId": "c6fe0c02-21b3-4d0d-a941-04de5f97fb69"
      },
      "execution_count": 21,
      "outputs": [
        {
          "output_type": "display_data",
          "data": {
            "text/plain": [
              "<Figure size 432x288 with 1 Axes>"
            ],
            "image/png": "[encoded data removed]"
          },
          "metadata": {
            "needs_background": "light"
          }
        }
      ]
    }
  ],
  "metadata": {
    "colab": {
      "provenance": [],
      "collapsed_sections": [
        "SoEiXVcfIZNR"
      ]
    },
    "kernelspec": {
      "display_name": "Python 3",
      "name": "python3"
    },
    "language_info": {
      "name": "python"
    },
    "gpuClass": "premium",
    "accelerator": "GPU"
  },
  "nbformat": 4,
  "nbformat_minor": 0
}