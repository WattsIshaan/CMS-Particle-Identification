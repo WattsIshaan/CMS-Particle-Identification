{
  "cells": [
    {
      "cell_type": "markdown",
      "source": [
        "# **Graph Neural Networks for End-to-End Particle Identification with the CMS Experiment Task-2**"
      ],
      "metadata": {
        "id": "I8iAerWEG-w7"
      }
    },
    {
      "cell_type": "code",
      "source": [
        "from google.colab import drive\n",
        "drive.mount('/content/drive')"
      ],
      "metadata": {
        "id": "8zJyouq3qm84",
        "colab": {
          "base_uri": "https://localhost:8080/"
        },
        "outputId": "31c8336f-266f-438d-e738-0f8c78f40746"
      },
      "execution_count": 1,
      "outputs": [
        {
          "output_type": "stream",
          "name": "stdout",
          "text": [
            "Mounted at /content/drive\n"
          ]
        }
      ]
    },
    {
      "cell_type": "markdown",
      "source": [
        "## Importing Libraries"
      ],
      "metadata": {
        "id": "3vcI9nVpxDSK"
      }
    },
    {
      "cell_type": "code",
      "source": [
        "import numpy as np\n",
        "from tqdm import tqdm\n",
        "import pyarrow.parquet as pq\n",
        "import matplotlib.pyplot as plt\n",
        "\n",
        "from sklearn.model_selection import train_test_split\n",
        "from sklearn.metrics import accuracy_score, roc_curve, auc, f1_score\n",
        "import matplotlib.pyplot as plt"
      ],
      "metadata": {
        "id": "OJ4Xoin8CACP"
      },
      "execution_count": 1,
      "outputs": []
    },
    {
      "cell_type": "code",
      "source": [
        "# Modules for pytorch model\n",
        "\n",
        "import torch\n",
        "import torch.nn as nn\n",
        "import torch.nn.functional as F\n",
        "from torch.utils.data import Dataset, DataLoader\n",
        "import torch.optim as optim\n",
        "from torch.optim.lr_scheduler import StepLR"
      ],
      "metadata": {
        "id": "CMfkNvQSKgRY"
      },
      "execution_count": 2,
      "outputs": []
    },
    {
      "cell_type": "markdown",
      "source": [
        "## Model - PyTorch CNN"
      ],
      "metadata": {
        "id": "vKTG5IeQI2KU"
      }
    },
    {
      "cell_type": "markdown",
      "source": [
        "### Creating Custom Dataset"
      ],
      "metadata": {
        "id": "mjeCBoidRxm_"
      }
    },
    {
      "cell_type": "code",
      "source": [
        "class MyDataset(Dataset):\n",
        "\n",
        "    \"\"\"\n",
        "    Custom dataset for Image dataset\n",
        "    \"\"\"\n",
        "\n",
        "    def __init__(self, split = 'train', test_size = 0.2):\n",
        "\n",
        "      filename = '/content/drive/MyDrive/GSOC/Quark-gluon using cnn/QCDToGGQQ_IMGjet_RH1all_jet0_run0_n36272.test.snappy.parquet'\n",
        "      self.parquet_file = pq.ParquetFile(filename)\n",
        "\n",
        "      num_rows = self.parquet_file.metadata.num_rows\n",
        "\n",
        "      indices = np.arange(num_rows)\n",
        "      train, test = train_test_split(indices, test_size = test_size, stratify = np.array(self.parquet_file.read(columns = 'y')).reshape(-1))\n",
        "\n",
        "      if split == 'train':\n",
        "        data = self.parquet_file.read_row_groups(sorted(train), columns = ['X_jets', 'y'])\n",
        "        self.X = torch.tensor(data.column('X_jets').to_pylist())\n",
        "        self.y = torch.tensor(data.column('y').to_pylist()).long()\n",
        "  \n",
        "      else:\n",
        "        data = self.parquet_file.read_row_groups(sorted(test), columns = ['X_jets', 'y'])\n",
        "        self.X = torch.tensor(data.column('X_jets').to_pylist())\n",
        "        self.y = torch.tensor(data.column('y').to_pylist()).long()\n",
        "\n",
        "    def __len__(self):\n",
        "        return self.X.size(0)\n",
        "\n",
        "    def __getitem__(self, idx):\n",
        "      return self.X[idx], self.y[idx]\n",
        "      "
      ],
      "metadata": {
        "id": "cMYSFJoKRzwq"
      },
      "execution_count": 3,
      "outputs": []
    },
    {
      "cell_type": "code",
      "source": [
        "train_dataset = MyDataset(split='train')\n",
        "test_dataset = MyDataset(split='test')"
      ],
      "metadata": {
        "id": "HCtxJAkdTJX0"
      },
      "execution_count": 4,
      "outputs": []
    },
    {
      "cell_type": "code",
      "source": [
        "len(train_dataset)"
      ],
      "metadata": {
        "colab": {
          "base_uri": "https://localhost:8080/"
        },
        "id": "l6mCCO_PG9la",
        "outputId": "56e7885a-b8a8-4583-fd52-abf50f77c530"
      },
      "execution_count": 5,
      "outputs": [
        {
          "output_type": "execute_result",
          "data": {
            "text/plain": [
              "29017"
            ]
          },
          "metadata": {},
          "execution_count": 5
        }
      ]
    },
    {
      "cell_type": "markdown",
      "source": [
        "### Data Loaders"
      ],
      "metadata": {
        "id": "oByhhbcjUSAQ"
      }
    },
    {
      "cell_type": "code",
      "source": [
        "def get_data_loaders(train_dataset, test_dataset, batch_size=32):\n",
        "\n",
        "    \"\"\"\n",
        "    Function to create the DataLoaders for train-val-test data. \n",
        "    Can specify batch size. Default value is set to 32.\n",
        "    \"\"\"\n",
        "\n",
        "    # Shuffle=True for training data to get diversity in batches at each training epoch\n",
        "    train_loader = DataLoader(train_dataset, batch_size=batch_size, shuffle=True, pin_memory = True)\n",
        "    test_loader = DataLoader(test_dataset, batch_size=batch_size, shuffle=False, pin_memory = True)\n",
        "\n",
        "    return train_loader, test_loader\n",
        "\n",
        "train_loader, test_loader = get_data_loaders(train_dataset, test_dataset, batch_size=360)"
      ],
      "metadata": {
        "id": "nJ62awGcUQAZ"
      },
      "execution_count": 6,
      "outputs": []
    },
    {
      "cell_type": "markdown",
      "source": [
        "Set Device"
      ],
      "metadata": {
        "id": "ZxDvPZGLVphx"
      }
    },
    {
      "cell_type": "code",
      "source": [
        "def get_device():\n",
        "    return torch.device('cuda' if torch.cuda.is_available() else 'cpu')"
      ],
      "metadata": {
        "id": "xQbEZf7dVuDB"
      },
      "execution_count": 7,
      "outputs": []
    },
    {
      "cell_type": "code",
      "source": [
        "device = get_device()\n",
        "print(device)"
      ],
      "metadata": {
        "colab": {
          "base_uri": "https://localhost:8080/"
        },
        "id": "LH1qKL4dVvkk",
        "outputId": "80a7baba-6794-4084-c6d4-b05df11bdd23"
      },
      "execution_count": 8,
      "outputs": [
        {
          "output_type": "stream",
          "name": "stdout",
          "text": [
            "cuda\n"
          ]
        }
      ]
    },
    {
      "cell_type": "markdown",
      "source": [
        "### Model Architecture\n",
        "\n",
        "1. Simple vanilla CNN architecture with 2 Conv aand 2 Linear layers.\n",
        "2. 2 conv-->relu-->pool blocks flattened and followed by linear-->relu-->linear."
      ],
      "metadata": {
        "id": "1Y-t_P89V0Sa"
      }
    },
    {
      "cell_type": "code",
      "source": [
        "class Net(nn.Module):\n",
        "    def __init__(self):\n",
        "        super(Net, self).__init__()\n",
        "\n",
        "        self.conv1 = nn.Conv2d(3, 16, kernel_size=3, padding=1)\n",
        "        self.pool = nn.MaxPool2d(kernel_size=2, stride=2)\n",
        "        self.conv2 = nn.Conv2d(16, 32, kernel_size=3, padding=1)\n",
        "        self.fc1 = nn.Linear(32 * 31 * 31, 120)\n",
        "        self.fc2 = nn.Linear(120, 2)\n",
        "\n",
        "    def forward(self, x):\n",
        "\n",
        "        x = self.pool(F.relu(self.conv1(x)))\n",
        "        x = self.pool(F.relu(self.conv2(x)))\n",
        "\n",
        "        x = x.view(-1, 32 * 31 * 31)\n",
        "\n",
        "        x = F.relu(self.fc1(x))\n",
        "        x = self.fc2(x)\n",
        "\n",
        "        return x\n"
      ],
      "metadata": {
        "id": "v6ZKgewCWJj8"
      },
      "execution_count": 23,
      "outputs": []
    },
    {
      "cell_type": "markdown",
      "source": [
        "Setup - \n",
        "1. Model Creation\n",
        "2. Setting Adam optimizer with learning rate scheduler\n",
        "3. Defining CrossEntropyLoss function"
      ],
      "metadata": {
        "id": "V1jKLhmxXJPj"
      }
    },
    {
      "cell_type": "code",
      "source": [
        "# Model\n",
        "model_pytorch = Net()\n",
        "model_pytorch = model_pytorch.to(device)\n",
        "\n",
        "# Optimizer and Learning Rate Scheduler\n",
        "\n",
        "optimizer = optim.Adam(model_pytorch.parameters(), lr=5e-4)\n",
        "scheduler = StepLR(optimizer, step_size=10, gamma=0.5)\n",
        "\n",
        "# Loss Function\n",
        "\n",
        "criterion = torch.nn.CrossEntropyLoss()"
      ],
      "metadata": {
        "id": "SYSk7zZwXIe3"
      },
      "execution_count": 33,
      "outputs": []
    },
    {
      "cell_type": "code",
      "source": [
        "print(model_pytorch)"
      ],
      "metadata": {
        "id": "lTPTFkOrYAtj",
        "colab": {
          "base_uri": "https://localhost:8080/"
        },
        "outputId": "f3ef7986-77e2-440e-c9b6-33657e3212ca"
      },
      "execution_count": 34,
      "outputs": [
        {
          "output_type": "stream",
          "name": "stdout",
          "text": [
            "Net(\n",
            "  (conv1): Conv2d(3, 16, kernel_size=(3, 3), stride=(1, 1), padding=(1, 1))\n",
            "  (pool): MaxPool2d(kernel_size=2, stride=2, padding=0, dilation=1, ceil_mode=False)\n",
            "  (conv2): Conv2d(16, 32, kernel_size=(3, 3), stride=(1, 1), padding=(1, 1))\n",
            "  (fc1): Linear(in_features=30752, out_features=120, bias=True)\n",
            "  (fc2): Linear(in_features=120, out_features=2, bias=True)\n",
            ")\n"
          ]
        }
      ]
    },
    {
      "cell_type": "markdown",
      "source": [
        "### Training"
      ],
      "metadata": {
        "id": "QjySZZA1X_6R"
      }
    },
    {
      "cell_type": "code",
      "source": [
        "def train(model, device, loader, optimizer, criterion, scheduler):\n",
        "\n",
        "    model.train()\n",
        "\n",
        "    y_true = []\n",
        "    y_probas = []\n",
        "\n",
        "    for data in tqdm(loader):  # Iterate in batches over the training dataset.\n",
        "        \n",
        "        X, y = data\n",
        "        X = X.to(device)\n",
        "        y = y.to(device)\n",
        "\n",
        "        out = model(X)  # Perform a single forward pass.\n",
        "\n",
        "        loss = criterion(out, y.squeeze())  # Compute the loss.\n",
        "        loss.backward()  # Derive gradients.\n",
        "        optimizer.step()  # Update parameters based on gradients.\n",
        "        optimizer.zero_grad()  # Clear gradients.\n",
        "\n",
        "        y_true += y.cpu().numpy().tolist()\n",
        "        y_probas += out[:, 1].detach().cpu().numpy().tolist()  # probability of class 1\n",
        "\n",
        "    scheduler.step()\n",
        "\n",
        "    fpr, tpr, thresholds = roc_curve(y_true, y_probas)\n",
        "    roc_auc = auc(fpr, tpr)\n",
        "\n",
        "    lr = optimizer.param_groups[0]['lr']\n",
        "    print(f'Train AUC : {roc_auc:.3f}, learning rate: {lr:.6f}')\n",
        "\n",
        "    return model\n",
        "\n",
        "    \n",
        "def evaluate(model, device, loader):\n",
        "\n",
        "    model.eval()\n",
        "\n",
        "    y_true = []\n",
        "    y_probas = []\n",
        "\n",
        "    with torch.no_grad():\n",
        "      \n",
        "        for data in tqdm(loader):\n",
        "\n",
        "            X, y = data\n",
        "\n",
        "            X = X.to(device)\n",
        "            y = y.to(device)\n",
        "            \n",
        "            out = model(X)        \n",
        "            \n",
        "            y_true += y.cpu().numpy().tolist()\n",
        "            y_probas += out[:, 1].cpu().numpy().tolist()  # probability of class 1\n",
        "\n",
        "    # Calculating few metrics\n",
        "\n",
        "        fpr, tpr, thresholds = roc_curve(y_true, y_probas)\n",
        "        roc_auc = auc(fpr, tpr)\n",
        "\n",
        "        print(f'Test AUC : {roc_auc:.3f}\\n')\n",
        "\n"
      ],
      "metadata": {
        "id": "XZZJTV7jeuuQ"
      },
      "execution_count": 37,
      "outputs": []
    },
    {
      "cell_type": "code",
      "source": [
        "# Training Loop\n",
        "\n",
        "epochs = 30\n",
        "\n",
        "for epoch in range(epochs):\n",
        "\n",
        "  print(f'Epoch : {epoch+1} \\n')\n",
        "\n",
        "  model_pytorch = train(model_pytorch, device, train_loader, optimizer, criterion, scheduler)\n",
        "  evaluate(model_pytorch, device, test_loader)"
      ],
      "metadata": {
        "colab": {
          "base_uri": "https://localhost:8080/"
        },
        "id": "LgIdctS2fwhL",
        "outputId": "3bbf7b8e-daa1-4a91-e458-bbb121659c9d"
      },
      "execution_count": 38,
      "outputs": [
        {
          "output_type": "stream",
          "name": "stdout",
          "text": [
            "Epoch : 1 \n",
            "\n"
          ]
        },
        {
          "output_type": "stream",
          "name": "stderr",
          "text": [
            "100%|██████████| 81/81 [00:02<00:00, 28.35it/s]\n"
          ]
        },
        {
          "output_type": "stream",
          "name": "stdout",
          "text": [
            "Train AUC : 0.694, learning rate: 0.000500\n"
          ]
        },
        {
          "output_type": "stream",
          "name": "stderr",
          "text": [
            "100%|██████████| 21/21 [00:00<00:00, 38.78it/s]\n"
          ]
        },
        {
          "output_type": "stream",
          "name": "stdout",
          "text": [
            "Test AUC : 0.757\n",
            "\n",
            "Epoch : 2 \n",
            "\n"
          ]
        },
        {
          "output_type": "stream",
          "name": "stderr",
          "text": [
            "100%|██████████| 81/81 [00:02<00:00, 28.49it/s]\n"
          ]
        },
        {
          "output_type": "stream",
          "name": "stdout",
          "text": [
            "Train AUC : 0.756, learning rate: 0.000500\n"
          ]
        },
        {
          "output_type": "stream",
          "name": "stderr",
          "text": [
            "100%|██████████| 21/21 [00:00<00:00, 39.60it/s]\n"
          ]
        },
        {
          "output_type": "stream",
          "name": "stdout",
          "text": [
            "Test AUC : 0.782\n",
            "\n",
            "Epoch : 3 \n",
            "\n"
          ]
        },
        {
          "output_type": "stream",
          "name": "stderr",
          "text": [
            "100%|██████████| 81/81 [00:02<00:00, 28.39it/s]\n"
          ]
        },
        {
          "output_type": "stream",
          "name": "stdout",
          "text": [
            "Train AUC : 0.781, learning rate: 0.000500\n"
          ]
        },
        {
          "output_type": "stream",
          "name": "stderr",
          "text": [
            "100%|██████████| 21/21 [00:00<00:00, 38.57it/s]\n"
          ]
        },
        {
          "output_type": "stream",
          "name": "stdout",
          "text": [
            "Test AUC : 0.801\n",
            "\n",
            "Epoch : 4 \n",
            "\n"
          ]
        },
        {
          "output_type": "stream",
          "name": "stderr",
          "text": [
            "100%|██████████| 81/81 [00:02<00:00, 27.74it/s]\n"
          ]
        },
        {
          "output_type": "stream",
          "name": "stdout",
          "text": [
            "Train AUC : 0.795, learning rate: 0.000500\n"
          ]
        },
        {
          "output_type": "stream",
          "name": "stderr",
          "text": [
            "100%|██████████| 21/21 [00:00<00:00, 39.36it/s]\n"
          ]
        },
        {
          "output_type": "stream",
          "name": "stdout",
          "text": [
            "Test AUC : 0.815\n",
            "\n",
            "Epoch : 5 \n",
            "\n"
          ]
        },
        {
          "output_type": "stream",
          "name": "stderr",
          "text": [
            "100%|██████████| 81/81 [00:02<00:00, 27.12it/s]\n"
          ]
        },
        {
          "output_type": "stream",
          "name": "stdout",
          "text": [
            "Train AUC : 0.809, learning rate: 0.000500\n"
          ]
        },
        {
          "output_type": "stream",
          "name": "stderr",
          "text": [
            "100%|██████████| 21/21 [00:00<00:00, 38.79it/s]\n"
          ]
        },
        {
          "output_type": "stream",
          "name": "stdout",
          "text": [
            "Test AUC : 0.824\n",
            "\n",
            "Epoch : 6 \n",
            "\n"
          ]
        },
        {
          "output_type": "stream",
          "name": "stderr",
          "text": [
            "100%|██████████| 81/81 [00:02<00:00, 28.13it/s]\n"
          ]
        },
        {
          "output_type": "stream",
          "name": "stdout",
          "text": [
            "Train AUC : 0.823, learning rate: 0.000500\n"
          ]
        },
        {
          "output_type": "stream",
          "name": "stderr",
          "text": [
            "100%|██████████| 21/21 [00:00<00:00, 39.65it/s]\n"
          ]
        },
        {
          "output_type": "stream",
          "name": "stdout",
          "text": [
            "Test AUC : 0.832\n",
            "\n",
            "Epoch : 7 \n",
            "\n"
          ]
        },
        {
          "output_type": "stream",
          "name": "stderr",
          "text": [
            "100%|██████████| 81/81 [00:02<00:00, 28.37it/s]\n"
          ]
        },
        {
          "output_type": "stream",
          "name": "stdout",
          "text": [
            "Train AUC : 0.836, learning rate: 0.000500\n"
          ]
        },
        {
          "output_type": "stream",
          "name": "stderr",
          "text": [
            "100%|██████████| 21/21 [00:00<00:00, 39.78it/s]\n"
          ]
        },
        {
          "output_type": "stream",
          "name": "stdout",
          "text": [
            "Test AUC : 0.842\n",
            "\n",
            "Epoch : 8 \n",
            "\n"
          ]
        },
        {
          "output_type": "stream",
          "name": "stderr",
          "text": [
            "100%|██████████| 81/81 [00:02<00:00, 28.26it/s]\n"
          ]
        },
        {
          "output_type": "stream",
          "name": "stdout",
          "text": [
            "Train AUC : 0.851, learning rate: 0.000500\n"
          ]
        },
        {
          "output_type": "stream",
          "name": "stderr",
          "text": [
            "100%|██████████| 21/21 [00:00<00:00, 40.52it/s]\n"
          ]
        },
        {
          "output_type": "stream",
          "name": "stdout",
          "text": [
            "Test AUC : 0.857\n",
            "\n",
            "Epoch : 9 \n",
            "\n"
          ]
        },
        {
          "output_type": "stream",
          "name": "stderr",
          "text": [
            "100%|██████████| 81/81 [00:02<00:00, 28.48it/s]\n"
          ]
        },
        {
          "output_type": "stream",
          "name": "stdout",
          "text": [
            "Train AUC : 0.868, learning rate: 0.000500\n"
          ]
        },
        {
          "output_type": "stream",
          "name": "stderr",
          "text": [
            "100%|██████████| 21/21 [00:00<00:00, 39.96it/s]\n"
          ]
        },
        {
          "output_type": "stream",
          "name": "stdout",
          "text": [
            "Test AUC : 0.871\n",
            "\n",
            "Epoch : 10 \n",
            "\n"
          ]
        },
        {
          "output_type": "stream",
          "name": "stderr",
          "text": [
            "100%|██████████| 81/81 [00:02<00:00, 28.46it/s]\n"
          ]
        },
        {
          "output_type": "stream",
          "name": "stdout",
          "text": [
            "Train AUC : 0.887, learning rate: 0.000250\n"
          ]
        },
        {
          "output_type": "stream",
          "name": "stderr",
          "text": [
            "100%|██████████| 21/21 [00:00<00:00, 40.13it/s]\n"
          ]
        },
        {
          "output_type": "stream",
          "name": "stdout",
          "text": [
            "Test AUC : 0.885\n",
            "\n",
            "Epoch : 11 \n",
            "\n"
          ]
        },
        {
          "output_type": "stream",
          "name": "stderr",
          "text": [
            "100%|██████████| 81/81 [00:02<00:00, 28.46it/s]\n"
          ]
        },
        {
          "output_type": "stream",
          "name": "stdout",
          "text": [
            "Train AUC : 0.916, learning rate: 0.000250\n"
          ]
        },
        {
          "output_type": "stream",
          "name": "stderr",
          "text": [
            "100%|██████████| 21/21 [00:00<00:00, 39.65it/s]\n"
          ]
        },
        {
          "output_type": "stream",
          "name": "stdout",
          "text": [
            "Test AUC : 0.904\n",
            "\n",
            "Epoch : 12 \n",
            "\n"
          ]
        },
        {
          "output_type": "stream",
          "name": "stderr",
          "text": [
            "100%|██████████| 81/81 [00:02<00:00, 27.63it/s]\n"
          ]
        },
        {
          "output_type": "stream",
          "name": "stdout",
          "text": [
            "Train AUC : 0.932, learning rate: 0.000250\n"
          ]
        },
        {
          "output_type": "stream",
          "name": "stderr",
          "text": [
            "100%|██████████| 21/21 [00:00<00:00, 39.50it/s]\n"
          ]
        },
        {
          "output_type": "stream",
          "name": "stdout",
          "text": [
            "Test AUC : 0.913\n",
            "\n",
            "Epoch : 13 \n",
            "\n"
          ]
        },
        {
          "output_type": "stream",
          "name": "stderr",
          "text": [
            "100%|██████████| 81/81 [00:02<00:00, 28.03it/s]\n"
          ]
        },
        {
          "output_type": "stream",
          "name": "stdout",
          "text": [
            "Train AUC : 0.944, learning rate: 0.000250\n"
          ]
        },
        {
          "output_type": "stream",
          "name": "stderr",
          "text": [
            "100%|██████████| 21/21 [00:00<00:00, 39.64it/s]\n"
          ]
        },
        {
          "output_type": "stream",
          "name": "stdout",
          "text": [
            "Test AUC : 0.922\n",
            "\n",
            "Epoch : 14 \n",
            "\n"
          ]
        },
        {
          "output_type": "stream",
          "name": "stderr",
          "text": [
            "100%|██████████| 81/81 [00:02<00:00, 27.96it/s]\n"
          ]
        },
        {
          "output_type": "stream",
          "name": "stdout",
          "text": [
            "Train AUC : 0.956, learning rate: 0.000250\n"
          ]
        },
        {
          "output_type": "stream",
          "name": "stderr",
          "text": [
            "100%|██████████| 21/21 [00:00<00:00, 40.04it/s]\n"
          ]
        },
        {
          "output_type": "stream",
          "name": "stdout",
          "text": [
            "Test AUC : 0.925\n",
            "\n",
            "Epoch : 15 \n",
            "\n"
          ]
        },
        {
          "output_type": "stream",
          "name": "stderr",
          "text": [
            "100%|██████████| 81/81 [00:02<00:00, 28.32it/s]\n"
          ]
        },
        {
          "output_type": "stream",
          "name": "stdout",
          "text": [
            "Train AUC : 0.967, learning rate: 0.000250\n"
          ]
        },
        {
          "output_type": "stream",
          "name": "stderr",
          "text": [
            "100%|██████████| 21/21 [00:00<00:00, 39.75it/s]\n"
          ]
        },
        {
          "output_type": "stream",
          "name": "stdout",
          "text": [
            "Test AUC : 0.934\n",
            "\n",
            "Epoch : 16 \n",
            "\n"
          ]
        },
        {
          "output_type": "stream",
          "name": "stderr",
          "text": [
            "100%|██████████| 81/81 [00:02<00:00, 28.10it/s]\n"
          ]
        },
        {
          "output_type": "stream",
          "name": "stdout",
          "text": [
            "Train AUC : 0.975, learning rate: 0.000250\n"
          ]
        },
        {
          "output_type": "stream",
          "name": "stderr",
          "text": [
            "100%|██████████| 21/21 [00:00<00:00, 39.64it/s]\n"
          ]
        },
        {
          "output_type": "stream",
          "name": "stdout",
          "text": [
            "Test AUC : 0.942\n",
            "\n",
            "Epoch : 17 \n",
            "\n"
          ]
        },
        {
          "output_type": "stream",
          "name": "stderr",
          "text": [
            "100%|██████████| 81/81 [00:02<00:00, 28.37it/s]\n"
          ]
        },
        {
          "output_type": "stream",
          "name": "stdout",
          "text": [
            "Train AUC : 0.984, learning rate: 0.000250\n"
          ]
        },
        {
          "output_type": "stream",
          "name": "stderr",
          "text": [
            "100%|██████████| 21/21 [00:00<00:00, 40.12it/s]\n"
          ]
        },
        {
          "output_type": "stream",
          "name": "stdout",
          "text": [
            "Test AUC : 0.946\n",
            "\n",
            "Epoch : 18 \n",
            "\n"
          ]
        },
        {
          "output_type": "stream",
          "name": "stderr",
          "text": [
            "100%|██████████| 81/81 [00:02<00:00, 28.38it/s]\n"
          ]
        },
        {
          "output_type": "stream",
          "name": "stdout",
          "text": [
            "Train AUC : 0.989, learning rate: 0.000250\n"
          ]
        },
        {
          "output_type": "stream",
          "name": "stderr",
          "text": [
            "100%|██████████| 21/21 [00:00<00:00, 40.06it/s]\n"
          ]
        },
        {
          "output_type": "stream",
          "name": "stdout",
          "text": [
            "Test AUC : 0.949\n",
            "\n",
            "Epoch : 19 \n",
            "\n"
          ]
        },
        {
          "output_type": "stream",
          "name": "stderr",
          "text": [
            "100%|██████████| 81/81 [00:02<00:00, 27.46it/s]\n"
          ]
        },
        {
          "output_type": "stream",
          "name": "stdout",
          "text": [
            "Train AUC : 0.993, learning rate: 0.000250\n"
          ]
        },
        {
          "output_type": "stream",
          "name": "stderr",
          "text": [
            "100%|██████████| 21/21 [00:00<00:00, 39.62it/s]\n"
          ]
        },
        {
          "output_type": "stream",
          "name": "stdout",
          "text": [
            "Test AUC : 0.951\n",
            "\n",
            "Epoch : 20 \n",
            "\n"
          ]
        },
        {
          "output_type": "stream",
          "name": "stderr",
          "text": [
            "100%|██████████| 81/81 [00:02<00:00, 28.19it/s]\n"
          ]
        },
        {
          "output_type": "stream",
          "name": "stdout",
          "text": [
            "Train AUC : 0.995, learning rate: 0.000125\n"
          ]
        },
        {
          "output_type": "stream",
          "name": "stderr",
          "text": [
            "100%|██████████| 21/21 [00:00<00:00, 39.76it/s]\n"
          ]
        },
        {
          "output_type": "stream",
          "name": "stdout",
          "text": [
            "Test AUC : 0.950\n",
            "\n",
            "Epoch : 21 \n",
            "\n"
          ]
        },
        {
          "output_type": "stream",
          "name": "stderr",
          "text": [
            "100%|██████████| 81/81 [00:02<00:00, 28.30it/s]\n"
          ]
        },
        {
          "output_type": "stream",
          "name": "stdout",
          "text": [
            "Train AUC : 0.998, learning rate: 0.000125\n"
          ]
        },
        {
          "output_type": "stream",
          "name": "stderr",
          "text": [
            "100%|██████████| 21/21 [00:00<00:00, 40.09it/s]\n"
          ]
        },
        {
          "output_type": "stream",
          "name": "stdout",
          "text": [
            "Test AUC : 0.954\n",
            "\n",
            "Epoch : 22 \n",
            "\n"
          ]
        },
        {
          "output_type": "stream",
          "name": "stderr",
          "text": [
            "100%|██████████| 81/81 [00:02<00:00, 28.28it/s]\n"
          ]
        },
        {
          "output_type": "stream",
          "name": "stdout",
          "text": [
            "Train AUC : 0.998, learning rate: 0.000125\n"
          ]
        },
        {
          "output_type": "stream",
          "name": "stderr",
          "text": [
            "100%|██████████| 21/21 [00:00<00:00, 39.88it/s]\n"
          ]
        },
        {
          "output_type": "stream",
          "name": "stdout",
          "text": [
            "Test AUC : 0.954\n",
            "\n",
            "Epoch : 23 \n",
            "\n"
          ]
        },
        {
          "output_type": "stream",
          "name": "stderr",
          "text": [
            "100%|██████████| 81/81 [00:02<00:00, 27.33it/s]\n"
          ]
        },
        {
          "output_type": "stream",
          "name": "stdout",
          "text": [
            "Train AUC : 0.999, learning rate: 0.000125\n"
          ]
        },
        {
          "output_type": "stream",
          "name": "stderr",
          "text": [
            "100%|██████████| 21/21 [00:00<00:00, 39.87it/s]\n"
          ]
        },
        {
          "output_type": "stream",
          "name": "stdout",
          "text": [
            "Test AUC : 0.954\n",
            "\n",
            "Epoch : 24 \n",
            "\n"
          ]
        },
        {
          "output_type": "stream",
          "name": "stderr",
          "text": [
            "100%|██████████| 81/81 [00:02<00:00, 28.35it/s]\n"
          ]
        },
        {
          "output_type": "stream",
          "name": "stdout",
          "text": [
            "Train AUC : 0.999, learning rate: 0.000125\n"
          ]
        },
        {
          "output_type": "stream",
          "name": "stderr",
          "text": [
            "100%|██████████| 21/21 [00:00<00:00, 39.79it/s]\n"
          ]
        },
        {
          "output_type": "stream",
          "name": "stdout",
          "text": [
            "Test AUC : 0.954\n",
            "\n",
            "Epoch : 25 \n",
            "\n"
          ]
        },
        {
          "output_type": "stream",
          "name": "stderr",
          "text": [
            "100%|██████████| 81/81 [00:02<00:00, 28.26it/s]\n"
          ]
        },
        {
          "output_type": "stream",
          "name": "stdout",
          "text": [
            "Train AUC : 0.999, learning rate: 0.000125\n"
          ]
        },
        {
          "output_type": "stream",
          "name": "stderr",
          "text": [
            "100%|██████████| 21/21 [00:00<00:00, 39.64it/s]\n"
          ]
        },
        {
          "output_type": "stream",
          "name": "stdout",
          "text": [
            "Test AUC : 0.955\n",
            "\n",
            "Epoch : 26 \n",
            "\n"
          ]
        },
        {
          "output_type": "stream",
          "name": "stderr",
          "text": [
            "100%|██████████| 81/81 [00:02<00:00, 27.37it/s]\n"
          ]
        },
        {
          "output_type": "stream",
          "name": "stdout",
          "text": [
            "Train AUC : 0.999, learning rate: 0.000125\n"
          ]
        },
        {
          "output_type": "stream",
          "name": "stderr",
          "text": [
            "100%|██████████| 21/21 [00:00<00:00, 40.14it/s]\n"
          ]
        },
        {
          "output_type": "stream",
          "name": "stdout",
          "text": [
            "Test AUC : 0.955\n",
            "\n",
            "Epoch : 27 \n",
            "\n"
          ]
        },
        {
          "output_type": "stream",
          "name": "stderr",
          "text": [
            "100%|██████████| 81/81 [00:02<00:00, 28.55it/s]\n"
          ]
        },
        {
          "output_type": "stream",
          "name": "stdout",
          "text": [
            "Train AUC : 0.999, learning rate: 0.000125\n"
          ]
        },
        {
          "output_type": "stream",
          "name": "stderr",
          "text": [
            "100%|██████████| 21/21 [00:00<00:00, 39.71it/s]\n"
          ]
        },
        {
          "output_type": "stream",
          "name": "stdout",
          "text": [
            "Test AUC : 0.954\n",
            "\n",
            "Epoch : 28 \n",
            "\n"
          ]
        },
        {
          "output_type": "stream",
          "name": "stderr",
          "text": [
            "100%|██████████| 81/81 [00:02<00:00, 28.40it/s]\n"
          ]
        },
        {
          "output_type": "stream",
          "name": "stdout",
          "text": [
            "Train AUC : 0.999, learning rate: 0.000125\n"
          ]
        },
        {
          "output_type": "stream",
          "name": "stderr",
          "text": [
            "100%|██████████| 21/21 [00:00<00:00, 40.01it/s]\n"
          ]
        },
        {
          "output_type": "stream",
          "name": "stdout",
          "text": [
            "Test AUC : 0.955\n",
            "\n",
            "Epoch : 29 \n",
            "\n"
          ]
        },
        {
          "output_type": "stream",
          "name": "stderr",
          "text": [
            "100%|██████████| 81/81 [00:02<00:00, 28.30it/s]\n"
          ]
        },
        {
          "output_type": "stream",
          "name": "stdout",
          "text": [
            "Train AUC : 0.999, learning rate: 0.000125\n"
          ]
        },
        {
          "output_type": "stream",
          "name": "stderr",
          "text": [
            "100%|██████████| 21/21 [00:00<00:00, 39.77it/s]\n"
          ]
        },
        {
          "output_type": "stream",
          "name": "stdout",
          "text": [
            "Test AUC : 0.955\n",
            "\n",
            "Epoch : 30 \n",
            "\n"
          ]
        },
        {
          "output_type": "stream",
          "name": "stderr",
          "text": [
            "100%|██████████| 81/81 [00:02<00:00, 28.39it/s]\n"
          ]
        },
        {
          "output_type": "stream",
          "name": "stdout",
          "text": [
            "Train AUC : 1.000, learning rate: 0.000063\n"
          ]
        },
        {
          "output_type": "stream",
          "name": "stderr",
          "text": [
            "100%|██████████| 21/21 [00:00<00:00, 40.43it/s]"
          ]
        },
        {
          "output_type": "stream",
          "name": "stdout",
          "text": [
            "Test AUC : 0.956\n",
            "\n"
          ]
        },
        {
          "output_type": "stream",
          "name": "stderr",
          "text": [
            "\n"
          ]
        }
      ]
    },
    {
      "cell_type": "markdown",
      "source": [
        "### Testing"
      ],
      "metadata": {
        "id": "zy5whyC7jQfD"
      }
    },
    {
      "cell_type": "code",
      "source": [
        "def test(model, device, loader):\n",
        "  \n",
        "    model.eval()\n",
        "    y_true = []\n",
        "    y_probas = []\n",
        "    y_pred = []\n",
        "\n",
        "    with torch.no_grad():\n",
        "      \n",
        "        for data in tqdm(loader):\n",
        "          \n",
        "            X, y = data\n",
        "\n",
        "            X = X.to(device)\n",
        "            y = y.to(device)\n",
        "            \n",
        "            out = model(X)\n",
        "            \n",
        "            y_true += y.cpu().numpy().tolist()\n",
        "            y_pred += out.argmax(dim=1).cpu().numpy().tolist()  # absoulte predictions\n",
        "            y_probas += out[:, 1].cpu().numpy().tolist()  # probability of class 1\n",
        "\n",
        "    # Calculating few metrics\n",
        "\n",
        "    acc = accuracy_score(y_true, y_pred)\n",
        "    f1 = f1_score(y_true, y_pred)\n",
        "    fpr, tpr, thresholds = roc_curve(y_true, y_probas)\n",
        "    roc_auc = auc(fpr, tpr)\n",
        "\n",
        "    print('\\nResults\\n')\n",
        "    print(f'Testing Accuracy {acc:.3f}')\n",
        "    print(f'F1 score: {f1:.3f}')\n",
        "    print(f'ROC-AUC: {roc_auc:.4f}\\n')\n",
        "\n",
        "    return acc, f1, fpr, tpr, roc_auc"
      ],
      "metadata": {
        "id": "ig6VIsvfiPSS"
      },
      "execution_count": 39,
      "outputs": []
    },
    {
      "cell_type": "code",
      "source": [
        "acc_pytorch, f1_pytorch, fpr_pytorch, tpr_pytorch, auc_pytorch = test(model_pytorch, device, test_loader)"
      ],
      "metadata": {
        "colab": {
          "base_uri": "https://localhost:8080/"
        },
        "id": "NcBp60kIjUZu",
        "outputId": "f6b7b186-7441-49f9-8e70-611826583abe"
      },
      "execution_count": 40,
      "outputs": [
        {
          "output_type": "stream",
          "name": "stderr",
          "text": [
            "100%|██████████| 21/21 [00:00<00:00, 37.95it/s]"
          ]
        },
        {
          "output_type": "stream",
          "name": "stdout",
          "text": [
            "\n",
            "Results\n",
            "\n",
            "Testing Accuracy 0.935\n",
            "F1 score: 0.935\n",
            "ROC-AUC: 0.9558\n",
            "\n"
          ]
        },
        {
          "output_type": "stream",
          "name": "stderr",
          "text": [
            "\n"
          ]
        }
      ]
    },
    {
      "cell_type": "code",
      "source": [
        "plt.plot(fpr_pytorch, tpr_pytorch, label=f'Pytorch ROC-AUC : area {auc_pytorch:.4f}')\n",
        "\n",
        "plt.plot([0, 1], [0, 1], 'k--')\n",
        "plt.xlabel('False positive rate')\n",
        "plt.ylabel('True positive rate')\n",
        "plt.title('ROC-curve')\n",
        "\n",
        "plt.legend()\n",
        "#plt.savefig('roc-auc.png')\n",
        "plt.show()"
      ],
      "metadata": {
        "colab": {
          "base_uri": "https://localhost:8080/",
          "height": 295
        },
        "id": "hZ-QPjvRHF56",
        "outputId": "424764b4-47f6-437d-ea0f-c6939b318379"
      },
      "execution_count": 41,
      "outputs": [
        {
          "output_type": "display_data",
          "data": {
            "text/plain": [
              "<Figure size 432x288 with 1 Axes>"
            ],
            "image/png": "[encoded data removed]"
          },
          "metadata": {
            "needs_background": "light"
          }
        }
      ]
    }
  ],
  "metadata": {
    "colab": {
      "provenance": []
    },
    "kernelspec": {
      "display_name": "Python 3",
      "name": "python3"
    },
    "language_info": {
      "name": "python"
    },
    "gpuClass": "premium",
    "accelerator": "GPU"
  },
  "nbformat": 4,
  "nbformat_minor": 0
}